{
 "cells": [
  {
   "cell_type": "code",
   "execution_count": 10,
   "id": "2b36d5ed",
   "metadata": {},
   "outputs": [],
   "source": [
    "import os\n",
    "import pandas as pd\n",
    "from sklearn.preprocessing import LabelEncoder\n",
    "\n",
    "df=pd.read_csv(r\"C:\\Users\\ahama\\OneDrive\\Desktop\\social media\\social_media_engagement1.csv\")\n",
    "df.drop_duplicates(inplace=True)\n",
    "\n",
    "# Drop high-cardinality columns that are not useful for prediction\n",
    "df.drop(columns=['post_id', 'post_time', 'post_day'], inplace=True)\n",
    "\n",
    "#apply label encoding: give unique no. to each category\n",
    "categorical_cols = df.select_dtypes(include=['object', 'category']).columns # Detect and encode categorical columns\n",
    "\n",
    "le = LabelEncoder()\n",
    "for col in categorical_cols:\n",
    "  df[col] = le.fit_transform(df[col].astype(str))  # convert to string to handle NaNs safely\n",
    "\n",
    "#convering string into numbers\n",
    "df[['platform', 'post_type', 'likes', 'comments', 'shares', 'sentiment_score']] = df[['platform', 'post_type', 'likes', 'comments', 'shares', 'sentiment_score']].apply(pd.to_numeric, errors='coerce')\n",
    "\n",
    "\n",
    "\n",
    "df.to_csv(r\"C:\\Users\\ahama\\OneDrive\\Desktop\\social media\\encoded_social_media_engagement1.csv\", index=False)"
   ]
  }
 ],
 "metadata": {
  "kernelspec": {
   "display_name": "Python 3",
   "language": "python",
   "name": "python3"
  },
  "language_info": {
   "codemirror_mode": {
    "name": "ipython",
    "version": 3
   },
   "file_extension": ".py",
   "mimetype": "text/x-python",
   "name": "python",
   "nbconvert_exporter": "python",
   "pygments_lexer": "ipython3",
   "version": "3.11.5"
  }
 },
 "nbformat": 4,
 "nbformat_minor": 5
}
