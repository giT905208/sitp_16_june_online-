{
 "cells": [
  {
   "cell_type": "markdown",
   "id": "acc43076",
   "metadata": {},
   "source": []
  },
  {
   "cell_type": "code",
   "execution_count": 8,
   "id": "1011b714",
   "metadata": {},
   "outputs": [
    {
     "name": "stdout",
     "output_type": "stream",
     "text": [
      "File saved\n"
     ]
    }
   ],
   "source": [
    "import os\n",
    "import pandas as pd\n",
    "from sklearn.preprocessing import LabelEncoder\n",
    "\n",
    "df=pd.read_csv(r\"C:\\Users\\ahama\\OneDrive\\Desktop\\mental health\\mental_health_workplace_survey.csv\")\n",
    "df.drop_duplicates(inplace=True)\n",
    "\n",
    "# Drop high-cardinality columns that are not useful for prediction\n",
    "df.drop(columns=['EmployeeID', 'JobRole', 'Department',\t'YearsAtCompany', 'RemoteWork',\t'SalaryRange','TeamSize','CareerGrowthScore'], inplace=True)\n",
    "\n",
    "#apply label encoding: give unique no. to each category\n",
    "categorical_cols = df.select_dtypes(include=['object', 'category']).columns # Detect and encode categorical columns\n",
    "\n",
    "le = LabelEncoder()\n",
    "for col in categorical_cols:\n",
    "    df[col] = le.fit_transform(df[col].astype(str))  # convert to string to handle NaNs safely\n",
    "\n",
    "#convering string into numbersbrand\n",
    "df[['Age',\t'Gender',\t'Country',\t'WorkHoursPerWeek',\t'BurnoutLevel',\t'JobSatisfaction',\t'StressLevel',\t'ProductivityScore','SleepHours',\t'PhysicalActivityHrs','CommuteTime',\t'HasMentalHealthSupport',\t'ManagerSupportScore',\t'HasTherapyAccess',\t'MentalHealthDaysOff',\t'WorkLifeBalanceScore',\t'BurnoutRisk']] = df[['Age',\t'Gender',\t'Country',\t'WorkHoursPerWeek',\t'BurnoutLevel',\t'JobSatisfaction',\t'StressLevel',\t'ProductivityScore','SleepHours',\t'PhysicalActivityHrs','CommuteTime',\t'HasMentalHealthSupport',\t'ManagerSupportScore',\t'HasTherapyAccess',\t'MentalHealthDaysOff',\t'WorkLifeBalanceScore',\t'BurnoutRisk']] .apply(pd.to_numeric, errors='coerce')\n",
    "\n",
    "\n",
    "df.to_csv(r\"C:\\Users\\ahama\\OneDrive\\Desktop\\mental health\\encoded_mental_health_workplace_survey.csv\")\n",
    "print(\"File saved\")"
   ]
  }
 ],
 "metadata": {
  "kernelspec": {
   "display_name": "Python 3",
   "language": "python",
   "name": "python3"
  },
  "language_info": {
   "codemirror_mode": {
    "name": "ipython",
    "version": 3
   },
   "file_extension": ".py",
   "mimetype": "text/x-python",
   "name": "python",
   "nbconvert_exporter": "python",
   "pygments_lexer": "ipython3",
   "version": "3.11.5"
  }
 },
 "nbformat": 4,
 "nbformat_minor": 5
}
