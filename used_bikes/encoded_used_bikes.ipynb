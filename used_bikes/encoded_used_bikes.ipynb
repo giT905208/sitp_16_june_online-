{
 "cells": [
  {
   "cell_type": "code",
   "execution_count": 3,
   "id": "a22553ec",
   "metadata": {},
   "outputs": [],
   "source": [
    "import os\n",
    "import pandas as pd\n",
    "from sklearn.preprocessing import LabelEncoder\n",
    "\n",
    "df=pd.read_csv(r\"C:\\Users\\ahama\\OneDrive\\Desktop\\used_bikes\\Used_Bikes.csv\")\n",
    "df.drop_duplicates(inplace=True)\n",
    "\n",
    "#apply label encoding: give unique no. to each category\n",
    "categorical_cols = df.select_dtypes(include=['object', 'category']).columns # Detect and encode categorical columns\n",
    "\n",
    "le = LabelEncoder()\n",
    "for col in categorical_cols:\n",
    "    df[col] = le.fit_transform(df[col].astype(str))  # convert to string to handle NaNs safely\n",
    "\n",
    "#convering string into numbers\n",
    "df[['bike_name', 'price', 'city', 'kms_driven', 'owner', 'age', 'power', 'brand']] = df[['bike_name', 'price', 'city', 'kms_driven', 'owner', 'age', 'power', 'brand']] .apply(pd.to_numeric, errors='coerce')\n",
    "\n",
    "\n",
    "df.to_csv(r\"C:\\Users\\ahama\\OneDrive\\Desktop\\used_bikes\\encoded_cleaned_used_bikes.csv\", index=False)"
   ]
  }
 ],
 "metadata": {
  "kernelspec": {
   "display_name": "Python 3",
   "language": "python",
   "name": "python3"
  },
  "language_info": {
   "codemirror_mode": {
    "name": "ipython",
    "version": 3
   },
   "file_extension": ".py",
   "mimetype": "text/x-python",
   "name": "python",
   "nbconvert_exporter": "python",
   "pygments_lexer": "ipython3",
   "version": "3.11.5"
  }
 },
 "nbformat": 4,
 "nbformat_minor": 5
}
