{
 "cells": [
  {
   "cell_type": "code",
   "execution_count": 1,
   "id": "4fa8dc01",
   "metadata": {},
   "outputs": [
    {
     "name": "stdout",
     "output_type": "stream",
     "text": [
      "File saved\n"
     ]
    }
   ],
   "source": [
    "import os\n",
    "import pandas as pd\n",
    "from sklearn.preprocessing import LabelEncoder\n",
    "\n",
    "df=pd.read_csv(r\"C:\\Users\\ahama\\OneDrive\\Desktop\\laptop price\\laptopPrice.csv\")\n",
    "df.drop_duplicates(inplace=True)\n",
    "\n",
    "#apply label encoding: give unique no. to each category\n",
    "categorical_cols = df.select_dtypes(include=['object', 'category']).columns # Detect and encode categorical columns\n",
    "\n",
    "le = LabelEncoder()\n",
    "for col in categorical_cols:\n",
    "    df[col] = le.fit_transform(df[col].astype(str))  # convert to string to handle NaNs safely\n",
    "\n",
    "#convering string into numbers\n",
    "df[['brand', 'processor_brand', 'processor_name', 'processor_gnrtn', 'ram_gb', 'ram_type', 'ssd', 'hdd', 'os', 'os_bit', 'graphic_card_gb', 'weight', 'warranty', 'Touchscreen', 'msoffice', 'Price', 'rating', 'Number of Ratings', 'Number of Reviews']] = df[['brand', 'processor_brand', 'processor_name', 'processor_gnrtn', 'ram_gb', 'ram_type', 'ssd', 'hdd', 'os', 'os_bit', 'graphic_card_gb', 'weight', 'warranty', 'Touchscreen', 'msoffice', 'Price', 'rating', 'Number of Ratings', 'Number of Reviews']] .apply(pd.to_numeric, errors='coerce')\n",
    "\n",
    "df.to_csv(r\"C:\\Users\\ahama\\OneDrive\\Desktop\\laptop price\\encoded_laptopPrice.csv\")\n",
    "print(\"File saved\")"
   ]
  }
 ],
 "metadata": {
  "kernelspec": {
   "display_name": "Python 3",
   "language": "python",
   "name": "python3"
  },
  "language_info": {
   "codemirror_mode": {
    "name": "ipython",
    "version": 3
   },
   "file_extension": ".py",
   "mimetype": "text/x-python",
   "name": "python",
   "nbconvert_exporter": "python",
   "pygments_lexer": "ipython3",
   "version": "3.11.5"
  }
 },
 "nbformat": 4,
 "nbformat_minor": 5
}
