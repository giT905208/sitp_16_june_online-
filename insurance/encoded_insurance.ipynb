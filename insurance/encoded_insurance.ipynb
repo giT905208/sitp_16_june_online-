{
 "cells": [
  {
   "cell_type": "code",
   "execution_count": 1,
   "id": "3715f6b5",
   "metadata": {},
   "outputs": [
    {
     "name": "stdout",
     "output_type": "stream",
     "text": [
      "MAE: ₹2555.93\n",
      "MSE: ₹21420846.46\n",
      "R² Score: 0.88\n"
     ]
    }
   ],
   "source": [
    "import os\n",
    "import pandas as pd\n",
    "from sklearn.preprocessing import LabelEncoder\n",
    "from sklearn.model_selection import train_test_split\n",
    "from sklearn.ensemble import RandomForestRegressor\n",
    "from sklearn.metrics import mean_absolute_error, mean_squared_error, r2_score\n",
    "\n",
    "# Load and preprocess the data\n",
    "df = pd.read_csv(r\"C:\\Users\\ahama\\OneDrive\\Desktop\\insurance\\insurance.csv\")\n",
    "df.drop_duplicates(inplace=True)\n",
    "\n",
    "# Apply label encoding to categorical columns\n",
    "categorical_cols = df.select_dtypes(include=['object', 'category']).columns\n",
    "\n",
    "le = LabelEncoder()\n",
    "for col in categorical_cols:\n",
    "    df[col] = le.fit_transform(df[col].astype(str))  # Convert to string to handle NaNs safely\n",
    "\n",
    "# Convert all relevant columns to numeric (coerce errors to NaN if any)\n",
    "df[['age', 'sex', 'bmi', 'children', 'smoker', 'region', 'charges']] = df[[\n",
    "    'age', 'sex', 'bmi', 'children', 'smoker', 'region', 'charges'\n",
    "]].apply(pd.to_numeric, errors='coerce')\n",
    "\n",
    "# Save the encoded dataset\n",
    "df.to_csv(r\"C:\\Users\\ahama\\OneDrive\\Desktop\\insurance\\encoded_insurance.csv\", index=False)\n",
    "\n",
    "# Load the encoded dataset\n",
    "df = pd.read_csv(r\"C:\\Users\\ahama\\OneDrive\\Desktop\\insurance\\encoded_insurance.csv\")\n",
    "\n",
    "# Split features and target\n",
    "X = df.drop('charges', axis=1)\n",
    "y = df['charges']\n",
    "\n",
    "# Train-test split\n",
    "X_train, X_test, y_train, y_test = train_test_split(X, y, test_size=0.2, random_state=42)\n",
    "\n",
    "# Create and train the Random Forest Regressor\n",
    "model = RandomForestRegressor(n_estimators=100, random_state=42)\n",
    "model.fit(X_train, y_train)\n",
    "\n",
    "# Make predictions\n",
    "y_pred = model.predict(X_test)\n",
    "\n",
    "# Evaluate the model\n",
    "mae = mean_absolute_error(y_test, y_pred)\n",
    "mse = mean_squared_error(y_test, y_pred)\n",
    "r2 = r2_score(y_test, y_pred)\n",
    "\n",
    "# Display the results\n",
    "print(f\"MAE: ₹{mae:.2f}\")\n",
    "print(f\"MSE: ₹{mse:.2f}\")\n",
    "print(f\"R² Score: {r2:.2f}\")\n",
    "\n",
    "from sklearn.ensemble import RandomForestRegressor\n",
    "from joblib import dump, load\n",
    "\n",
    "# Train your model\n",
    "model = RandomForestRegressor()\n",
    "model.fit(X_train, y_train)\n",
    "\n",
    "# Save the model\n",
    "dump(model, 'model_insurance.joblib')\n",
    "\n",
    "# Later or in another script: Load the model\n",
    "loaded_model = load('model_insurance.joblib')\n",
    "\n",
    "# Use the loaded model\n",
    "y_pred = loaded_model.predict(X_test)"
   ]
  }
 ],
 "metadata": {
  "kernelspec": {
   "display_name": "Python 3",
   "language": "python",
   "name": "python3"
  },
  "language_info": {
   "codemirror_mode": {
    "name": "ipython",
    "version": 3
   },
   "file_extension": ".py",
   "mimetype": "text/x-python",
   "name": "python",
   "nbconvert_exporter": "python",
   "pygments_lexer": "ipython3",
   "version": "3.11.5"
  }
 },
 "nbformat": 4,
 "nbformat_minor": 5
}
